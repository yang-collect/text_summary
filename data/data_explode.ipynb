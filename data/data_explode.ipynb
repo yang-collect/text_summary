{
 "cells": [
  {
   "cell_type": "code",
   "execution_count": 1,
   "source": [
    "from transformers import MT5ForConditionalGeneration,T5Tokenizer\r\n",
    "from transformers import BertTokenizer"
   ],
   "outputs": [],
   "metadata": {}
  },
  {
   "cell_type": "code",
   "execution_count": 2,
   "source": [
    "import jieba\r\n",
    "class T5PegasusTokenizer(BertTokenizer):\r\n",
    "    def __init__(self, pre_tokenizer=lambda x: jieba.cut(x, HMM=False), *args, **kwargs):\r\n",
    "        super().__init__(*args, **kwargs)\r\n",
    "        self.pre_tokenizer = pre_tokenizer\r\n",
    "\r\n",
    "    def _tokenize(self, text, *arg, **kwargs):\r\n",
    "        split_tokens = []\r\n",
    "        for text in self.pre_tokenizer(text):\r\n",
    "            if text in self.vocab:\r\n",
    "                split_tokens.append(text)\r\n",
    "            else:\r\n",
    "                split_tokens.extend(super()._tokenize(text))\r\n",
    "        return split_tokens"
   ],
   "outputs": [],
   "metadata": {}
  },
  {
   "cell_type": "code",
   "execution_count": 2,
   "source": [
    "import json"
   ],
   "outputs": [],
   "metadata": {}
  },
  {
   "cell_type": "code",
   "execution_count": 3,
   "source": [
    "data=json.load(open(r'C:\\Users\\wie\\Documents\\项目\\文本摘要\\data\\sample.json','r',encoding='utf-8'))"
   ],
   "outputs": [],
   "metadata": {}
  },
  {
   "cell_type": "code",
   "execution_count": 30,
   "source": [
    "data=[{'title':list(cut(item['title'])),'content':list(cut(item['content']))} for item in data]"
   ],
   "outputs": [],
   "metadata": {}
  },
  {
   "cell_type": "code",
   "execution_count": 4,
   "source": [
    "len(data)"
   ],
   "outputs": [
    {
     "output_type": "execute_result",
     "data": {
      "text/plain": [
       "33876"
      ]
     },
     "metadata": {},
     "execution_count": 4
    }
   ],
   "metadata": {}
  },
  {
   "cell_type": "code",
   "execution_count": 31,
   "source": [
    "with open(r'C:\\Users\\wie\\Documents\\项目\\文本摘要\\data\\sample.json','w',encoding='utf-8') as f:\r\n",
    "    json.dump(data,f,ensure_ascii=False)"
   ],
   "outputs": [],
   "metadata": {}
  },
  {
   "cell_type": "code",
   "execution_count": 5,
   "source": [
    "from jieba import cut"
   ],
   "outputs": [],
   "metadata": {}
  },
  {
   "cell_type": "code",
   "execution_count": 5,
   "source": [
    "def read_data(path=r'C:\\Users\\wie\\Documents\\项目\\文本摘要\\data\\sample.json'):\r\n",
    "    with open(path, 'r', encoding='utf-8') as f:\r\n",
    "        data = json.load(f)\r\n",
    "\r\n",
    "    return ([item['title'] for item in data][:20000], [item['content'] for item in data][:20000]), \\\r\n",
    "           ([item['title'] for item in data][20000:], [item['content'] for item in data][20000:])"
   ],
   "outputs": [],
   "metadata": {}
  },
  {
   "cell_type": "code",
   "execution_count": 6,
   "source": [
    "(train,l1),(test,l2)=read_data()"
   ],
   "outputs": [],
   "metadata": {}
  },
  {
   "cell_type": "code",
   "execution_count": 7,
   "source": [
    "sorted(map(len,l1),reverse=True)[1000]            "
   ],
   "outputs": [
    {
     "output_type": "execute_result",
     "data": {
      "text/plain": [
       "551"
      ]
     },
     "metadata": {},
     "execution_count": 7
    }
   ],
   "metadata": {}
  },
  {
   "cell_type": "code",
   "execution_count": 8,
   "source": [
    "sorted(map(len,l2),reverse=True)[:15]"
   ],
   "outputs": [
    {
     "output_type": "execute_result",
     "data": {
      "text/plain": [
       "[600, 600, 600, 600, 600, 600, 600, 600, 600, 600, 599, 599, 599, 599, 599]"
      ]
     },
     "metadata": {},
     "execution_count": 8
    }
   ],
   "metadata": {}
  },
  {
   "cell_type": "code",
   "execution_count": 9,
   "source": [
    "sorted(map(len,[item['title'] for item in data]),reverse=True)[500]"
   ],
   "outputs": [
    {
     "output_type": "execute_result",
     "data": {
      "text/plain": [
       "37"
      ]
     },
     "metadata": {},
     "execution_count": 9
    }
   ],
   "metadata": {}
  },
  {
   "cell_type": "code",
   "execution_count": 10,
   "source": [
    "sorted(map(len,[item['content'] for item in data]),reverse=True)[12000]"
   ],
   "outputs": [
    {
     "output_type": "execute_result",
     "data": {
      "text/plain": [
       "342"
      ]
     },
     "metadata": {},
     "execution_count": 10
    }
   ],
   "metadata": {}
  },
  {
   "cell_type": "code",
   "execution_count": 3,
   "source": [
    "from jieba import cut"
   ],
   "outputs": [],
   "metadata": {}
  },
  {
   "cell_type": "code",
   "execution_count": 11,
   "source": [
    "from datasets import load_metric\r\n",
    "metric=load_metric(r'C:\\Users\\wie\\Documents\\项目\\metrics\\rouge.py')"
   ],
   "outputs": [],
   "metadata": {}
  },
  {
   "cell_type": "code",
   "execution_count": 4,
   "source": [
    "model_path=r'C:\\Users\\wie\\Documents\\项目\\model_file\\summary'\r\n",
    "model = MT5ForConditionalGeneration.from_pretrained(model_path)\r\n",
    "# tokenizer实例化\r\n",
    "tokenizer = T5PegasusTokenizer.from_pretrained(model_path)"
   ],
   "outputs": [],
   "metadata": {}
  },
  {
   "cell_type": "code",
   "execution_count": 7,
   "source": [
    "len(list(cut(text)))"
   ],
   "outputs": [
    {
     "output_type": "execute_result",
     "data": {
      "text/plain": [
       "657"
      ]
     },
     "metadata": {},
     "execution_count": 7
    }
   ],
   "metadata": {}
  },
  {
   "cell_type": "code",
   "execution_count": 54,
   "source": [
    "text=\"人民网哈尔滨8月13日电(王智圆、陈静)8月13日15时左右,在哈尔滨市香坊区延福街365路公交车站点,有人从一对老年夫妇手中抢走一名7岁男孩,并迅速驾驶一辆黑B牌照黑色轿车驶离现场。记者赶到事发辖区通天街派出所,目前从警方了解到的情况来看,可能涉及家庭纠纷。被抢走的孩子父亲去世,被判给母亲抚养,但孩子的爷爷奶奶并不想放弃孩子的抚养权,双方有一定的家庭矛盾。哈尔滨警方目前已经对各相关路段进行布控,并积极联系孩子母亲,找寻孩子下落尽快核实相关情况。事发路段哈尔滨市香坊区延福街\"\r\n",
    "input_ids=tokenizer(list(cut(text)),is_split_into_words=True,max_length=450,truncation=True,padding=True,return_tensors='pt')['input_ids']\r\n",
    "out=model.generate(input_ids,max_length=60,num_beams=1)"
   ],
   "outputs": [],
   "metadata": {}
  },
  {
   "cell_type": "code",
   "execution_count": 55,
   "source": [
    "tokenizer.decode(out[0],skip_special_tokens=True).replace(' ','')"
   ],
   "outputs": [
    {
     "output_type": "execute_result",
     "data": {
      "text/plain": [
       "'佛山男子拒男友分手,男友求复合不成后将其捅死。'"
      ]
     },
     "metadata": {},
     "execution_count": 55
    }
   ],
   "metadata": {}
  },
  {
   "cell_type": "code",
   "execution_count": 17,
   "source": [
    "len(list(cut(text)))"
   ],
   "outputs": [
    {
     "output_type": "execute_result",
     "data": {
      "text/plain": [
       "133"
      ]
     },
     "metadata": {},
     "execution_count": 17
    }
   ],
   "metadata": {}
  },
  {
   "cell_type": "code",
   "execution_count": 14,
   "source": [
    "text=\"人民网哈尔滨8月13日电(王智圆、陈静)8月13日15时左右,在哈尔滨市香坊区延福街365路公交车站点,有人从一对老年夫妇手中抢走一名7岁男孩,并迅速驾驶一辆黑B牌照黑色轿车驶离现场。记者赶到事发辖区通天街派出所,目前从警方了解到的情况来看,可能涉及家庭纠纷。被抢走的孩子父亲去世,被判给母亲抚养,但孩子的爷爷奶奶并不想放弃孩子的抚养权,双方有一定的家庭矛盾。哈尔滨警方目前已经对各相关路段进行布控,并积极联系孩子母亲,找寻孩子下落尽快核实相关情况。事发路段哈尔滨市香坊区延福街\""
   ],
   "outputs": [],
   "metadata": {}
  }
 ],
 "metadata": {
  "orig_nbformat": 4,
  "language_info": {
   "name": "python",
   "version": "3.7.9",
   "mimetype": "text/x-python",
   "codemirror_mode": {
    "name": "ipython",
    "version": 3
   },
   "pygments_lexer": "ipython3",
   "nbconvert_exporter": "python",
   "file_extension": ".py"
  },
  "kernelspec": {
   "name": "python3",
   "display_name": "Python 3.7.9 64-bit ('base': conda)"
  },
  "interpreter": {
   "hash": "41ef8895d486fc720bbf7e715661c6d0ed9c052c03840bbb42df10b3effdc11d"
  }
 },
 "nbformat": 4,
 "nbformat_minor": 2
}